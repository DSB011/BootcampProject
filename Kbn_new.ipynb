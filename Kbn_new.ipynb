{
 "cells": [
  {
   "cell_type": "markdown",
   "metadata": {},
   "source": [
    "# Project Markup"
   ]
  },
  {
   "cell_type": "markdown",
   "metadata": {},
   "source": []
  },
  {
   "cell_type": "code",
   "execution_count": 21,
   "metadata": {},
   "outputs": [],
   "source": [
    "# Dependencies\n",
    "#from config import (census_key, gkey)\n",
    "import gmaps\n",
    "import numpy as np\n",
    "import pandas as pd\n",
    "import requests\n",
    "import time\n",
    "import json\n",
    "\n",
    "#from us import states\n",
    "from scipy.stats import linregress\n",
    "from matplotlib import pyplot as plt"
   ]
  },
  {
   "cell_type": "code",
   "execution_count": 22,
   "metadata": {},
   "outputs": [],
   "source": [
    "baby_name_original = pd.read_csv(\n",
    "    \"../kbn/Data/StateNames.csv\", dtype=\"object\", encoding=\"utf-8\")\n",
    "#display result\n",
    "#baby_name_original.head()"
   ]
  },
  {
   "cell_type": "code",
   "execution_count": 23,
   "metadata": {},
   "outputs": [],
   "source": [
    "baby_name_original[\"Count\"] = baby_name_original.Count.astype(float)\n",
    "baby_name_original['date_conv'] = pd.to_datetime(baby_name_original.Year)"
   ]
  },
  {
   "cell_type": "code",
   "execution_count": 24,
   "metadata": {},
   "outputs": [
    {
     "data": {
      "text/plain": [
       "Id                   object\n",
       "Name                 object\n",
       "Year                 object\n",
       "Gender               object\n",
       "State                object\n",
       "Count               float64\n",
       "date_conv    datetime64[ns]\n",
       "dtype: object"
      ]
     },
     "execution_count": 24,
     "metadata": {},
     "output_type": "execute_result"
    }
   ],
   "source": [
    "baby_name_original.dtypes"
   ]
  },
  {
   "cell_type": "code",
   "execution_count": 25,
   "metadata": {},
   "outputs": [
    {
     "data": {
      "text/plain": [
       "0.5961681329423265"
      ]
     },
     "execution_count": 25,
     "metadata": {},
     "output_type": "execute_result"
    }
   ],
   "source": [
    "# Females in the Dataset\n",
    "(baby_name_original.Gender=='F').mean()"
   ]
  },
  {
   "cell_type": "code",
   "execution_count": 26,
   "metadata": {},
   "outputs": [
    {
     "data": {
      "text/plain": [
       "0.4038318670576735"
      ]
     },
     "execution_count": 26,
     "metadata": {},
     "output_type": "execute_result"
    }
   ],
   "source": [
    "# Males in the Dataset\n",
    "(baby_name_original.Gender=='M').mean()"
   ]
  },
  {
   "cell_type": "code",
   "execution_count": 27,
   "metadata": {
    "scrolled": true
   },
   "outputs": [
    {
     "data": {
      "image/png": "[encoded data removed]",
      "text/plain": [
       "<Figure size 432x288 with 1 Axes>"
      ]
     },
     "metadata": {},
     "output_type": "display_data"
    }
   ],
   "source": [
    "# Plotting Pie-Chart\n",
    "\n",
    "distribution = baby_name_original.groupby(['Gender'])['Id'].nunique()\n",
    "gender_demographic = list(distribution.index)\n",
    "labels = \"Female\",\"Male\"\n",
    "colors = \"Pink\",\"lightskyblue\"\n",
    "explode = (0,0.1)\n",
    "plt.pie(distribution,labels=labels,explode=explode,colors=colors,autopct='%1.1f%%',shadow=True,startangle=90)\n",
    "plt.axis(\"equal\")\n",
    "plt.title(\"Female vs Male\",fontsize=15, fontweight = 'heavy', style= 'italic')\n",
    "#plt.savefig(\"../Output/Female vs Male.png\")\n",
    "plt.show()"
   ]
  },
  {
   "cell_type": "code",
   "execution_count": 28,
   "metadata": {
    "scrolled": true
   },
   "outputs": [
    {
     "data": {
      "text/html": [
       "<div>\n",
       "<style scoped>\n",
       "    .dataframe tbody tr th:only-of-type {\n",
       "        vertical-align: middle;\n",
       "    }\n",
       "\n",
       "    .dataframe tbody tr th {\n",
       "        vertical-align: top;\n",
       "    }\n",
       "\n",
       "    .dataframe thead th {\n",
       "        text-align: right;\n",
       "    }\n",
       "</style>\n",
       "<table border=\"1\" class=\"dataframe\">\n",
       "  <thead>\n",
       "    <tr style=\"text-align: right;\">\n",
       "      <th></th>\n",
       "      <th>Count</th>\n",
       "    </tr>\n",
       "    <tr>\n",
       "      <th>Gender</th>\n",
       "      <th></th>\n",
       "    </tr>\n",
       "  </thead>\n",
       "  <tbody>\n",
       "    <tr>\n",
       "      <th>F</th>\n",
       "      <td>0.510717</td>\n",
       "    </tr>\n",
       "    <tr>\n",
       "      <th>M</th>\n",
       "      <td>0.489283</td>\n",
       "    </tr>\n",
       "  </tbody>\n",
       "</table>\n",
       "</div>"
      ],
      "text/plain": [
       "           Count\n",
       "Gender          \n",
       "F       0.510717\n",
       "M       0.489283"
      ]
     },
     "execution_count": 28,
     "metadata": {},
     "output_type": "execute_result"
    }
   ],
   "source": [
    "# To get the counts\n",
    "\n",
    "baby_name_original.groupby(\"Gender\").agg({'Count':'sum'})/baby_name_original.Count.sum()"
   ]
  },
  {
   "cell_type": "code",
   "execution_count": 29,
   "metadata": {},
   "outputs": [],
   "source": [
    "# Group the dataset by name\n",
    "names = baby_name_original.groupby(\"Name\")"
   ]
  },
  {
   "cell_type": "code",
   "execution_count": 30,
   "metadata": {},
   "outputs": [
    {
     "data": {
      "text/plain": [
       "20652"
      ]
     },
     "execution_count": 30,
     "metadata": {},
     "output_type": "execute_result"
    }
   ],
   "source": [
    "# Different names in the database\n",
    "baby_name_original.Name.nunique()"
   ]
  },
  {
   "cell_type": "code",
   "execution_count": 31,
   "metadata": {
    "scrolled": false
   },
   "outputs": [
    {
     "data": {
      "text/plain": [
       "Name\n",
       "Michael     726834.0\n",
       "James       693487.0\n",
       "Robert      676076.0\n",
       "John        671498.0\n",
       "David       615056.0\n",
       "              ...   \n",
       "Jayren           5.0\n",
       "Jayvien          5.0\n",
       "Jazalyn          5.0\n",
       "Jaziyah          5.0\n",
       "Kashmere         5.0\n",
       "Name: Count, Length: 20652, dtype: float64"
      ]
     },
     "execution_count": 31,
     "metadata": {},
     "output_type": "execute_result"
    }
   ],
   "source": [
    "# Name with the most occurances\n",
    "most_occurances = names.Count.sum().sort_values(ascending=False)\n",
    "most_occurances"
   ]
  },
  {
   "cell_type": "code",
   "execution_count": 32,
   "metadata": {
    "scrolled": true
   },
   "outputs": [
    {
     "data": {
      "text/plain": [
       "2975"
      ]
     },
     "execution_count": 32,
     "metadata": {},
     "output_type": "execute_result"
    }
   ],
   "source": [
    "# Least occurances\n",
    "least_occurances = (names.Count.sum()== 5).sum()\n",
    "least_occurances"
   ]
  },
  {
   "cell_type": "code",
   "execution_count": 33,
   "metadata": {},
   "outputs": [
    {
     "data": {
      "text/html": [
       "<div>\n",
       "<style scoped>\n",
       "    .dataframe tbody tr th:only-of-type {\n",
       "        vertical-align: middle;\n",
       "    }\n",
       "\n",
       "    .dataframe tbody tr th {\n",
       "        vertical-align: top;\n",
       "    }\n",
       "\n",
       "    .dataframe thead th {\n",
       "        text-align: right;\n",
       "    }\n",
       "</style>\n",
       "<table border=\"1\" class=\"dataframe\">\n",
       "  <thead>\n",
       "    <tr style=\"text-align: right;\">\n",
       "      <th></th>\n",
       "      <th>Count</th>\n",
       "    </tr>\n",
       "    <tr>\n",
       "      <th>Name</th>\n",
       "      <th></th>\n",
       "    </tr>\n",
       "  </thead>\n",
       "  <tbody>\n",
       "    <tr>\n",
       "      <th>Michael</th>\n",
       "      <td>722651.0</td>\n",
       "    </tr>\n",
       "    <tr>\n",
       "      <th>James</th>\n",
       "      <td>690430.0</td>\n",
       "    </tr>\n",
       "    <tr>\n",
       "      <th>Robert</th>\n",
       "      <td>673607.0</td>\n",
       "    </tr>\n",
       "    <tr>\n",
       "      <th>John</th>\n",
       "      <td>669089.0</td>\n",
       "    </tr>\n",
       "    <tr>\n",
       "      <th>David</th>\n",
       "      <td>613046.0</td>\n",
       "    </tr>\n",
       "    <tr>\n",
       "      <th>William</th>\n",
       "      <td>514861.0</td>\n",
       "    </tr>\n",
       "    <tr>\n",
       "      <th>Richard</th>\n",
       "      <td>381858.0</td>\n",
       "    </tr>\n",
       "    <tr>\n",
       "      <th>Christopher</th>\n",
       "      <td>375905.0</td>\n",
       "    </tr>\n",
       "    <tr>\n",
       "      <th>Daniel</th>\n",
       "      <td>370072.0</td>\n",
       "    </tr>\n",
       "    <tr>\n",
       "      <th>Joseph</th>\n",
       "      <td>339310.0</td>\n",
       "    </tr>\n",
       "  </tbody>\n",
       "</table>\n",
       "</div>"
      ],
      "text/plain": [
       "                Count\n",
       "Name                 \n",
       "Michael      722651.0\n",
       "James        690430.0\n",
       "Robert       673607.0\n",
       "John         669089.0\n",
       "David        613046.0\n",
       "William      514861.0\n",
       "Richard      381858.0\n",
       "Christopher  375905.0\n",
       "Daniel       370072.0\n",
       "Joseph       339310.0"
      ]
     },
     "execution_count": 33,
     "metadata": {},
     "output_type": "execute_result"
    }
   ],
   "source": [
    "# Top 10 Males Name\n",
    "baby_name_male = baby_name_original[baby_name_original[\"Gender\"] == \"M\"]\n",
    "baby_name_male = baby_name_male[[\"Name\", \"Count\"]]\n",
    "baby_name_male = baby_name_male.groupby(\"Name\")\n",
    "baby_name_male = baby_name_male.sum()\n",
    "baby_name_male = baby_name_male.sort_values(\"Count\", ascending=False)\n",
    "baby_name_male.head(10)"
   ]
  },
  {
   "cell_type": "code",
   "execution_count": 34,
   "metadata": {},
   "outputs": [
    {
     "data": {
      "text/html": [
       "<div>\n",
       "<style scoped>\n",
       "    .dataframe tbody tr th:only-of-type {\n",
       "        vertical-align: middle;\n",
       "    }\n",
       "\n",
       "    .dataframe tbody tr th {\n",
       "        vertical-align: top;\n",
       "    }\n",
       "\n",
       "    .dataframe thead th {\n",
       "        text-align: right;\n",
       "    }\n",
       "</style>\n",
       "<table border=\"1\" class=\"dataframe\">\n",
       "  <thead>\n",
       "    <tr style=\"text-align: right;\">\n",
       "      <th></th>\n",
       "      <th>Count</th>\n",
       "    </tr>\n",
       "    <tr>\n",
       "      <th>Name</th>\n",
       "      <th></th>\n",
       "    </tr>\n",
       "  </thead>\n",
       "  <tbody>\n",
       "    <tr>\n",
       "      <th>Mary</th>\n",
       "      <td>521196.0</td>\n",
       "    </tr>\n",
       "    <tr>\n",
       "      <th>Jennifer</th>\n",
       "      <td>329904.0</td>\n",
       "    </tr>\n",
       "    <tr>\n",
       "      <th>Elizabeth</th>\n",
       "      <td>277458.0</td>\n",
       "    </tr>\n",
       "    <tr>\n",
       "      <th>Patricia</th>\n",
       "      <td>257835.0</td>\n",
       "    </tr>\n",
       "    <tr>\n",
       "      <th>Jessica</th>\n",
       "      <td>256003.0</td>\n",
       "    </tr>\n",
       "    <tr>\n",
       "      <th>Linda</th>\n",
       "      <td>250265.0</td>\n",
       "    </tr>\n",
       "    <tr>\n",
       "      <th>Barbara</th>\n",
       "      <td>217539.0</td>\n",
       "    </tr>\n",
       "    <tr>\n",
       "      <th>Sarah</th>\n",
       "      <td>201562.0</td>\n",
       "    </tr>\n",
       "    <tr>\n",
       "      <th>Ashley</th>\n",
       "      <td>196703.0</td>\n",
       "    </tr>\n",
       "    <tr>\n",
       "      <th>Michelle</th>\n",
       "      <td>191443.0</td>\n",
       "    </tr>\n",
       "  </tbody>\n",
       "</table>\n",
       "</div>"
      ],
      "text/plain": [
       "              Count\n",
       "Name               \n",
       "Mary       521196.0\n",
       "Jennifer   329904.0\n",
       "Elizabeth  277458.0\n",
       "Patricia   257835.0\n",
       "Jessica    256003.0\n",
       "Linda      250265.0\n",
       "Barbara    217539.0\n",
       "Sarah      201562.0\n",
       "Ashley     196703.0\n",
       "Michelle   191443.0"
      ]
     },
     "execution_count": 34,
     "metadata": {},
     "output_type": "execute_result"
    }
   ],
   "source": [
    "# Top 10 Female Names\n",
    "\n",
    "baby_name_female = baby_name_original[baby_name_original[\"Gender\"] == \"F\"]\n",
    "baby_name_female= baby_name_female[[\"Name\", \"Count\"]]\n",
    "baby_name_female = baby_name_female.groupby(\"Name\")\n",
    "baby_name_female = baby_name_female.sum()\n",
    "baby_name_female = baby_name_female.sort_values(\"Count\", ascending=False)\n",
    "baby_name_female.head(10)"
   ]
  },
  {
   "cell_type": "code",
   "execution_count": 35,
   "metadata": {},
   "outputs": [],
   "source": [
    "# For creating tuples\n",
    "males = [(male,'M') for male in list(baby_name_male.head(8).index)]\n",
    "females = [(female,'F') for female in list(baby_name_female.head(8).index)]"
   ]
  },
  {
   "cell_type": "code",
   "execution_count": 37,
   "metadata": {},
   "outputs": [
    {
     "data": {
      "image/png": "[encoded data removed]",
      "text/plain": [
       "<Figure size 864x864 with 16 Axes>"
      ]
     },
     "metadata": {
      "needs_background": "light"
     },
     "output_type": "display_data"
    }
   ],
   "source": [
    "most_popular = baby_name_original\n",
    "\n",
    "def plot(ax, name, gender):\n",
    "    data = most_popular.loc[(most_popular.Name==name)&(most_popular.Gender==gender)]\n",
    "    ax.bar(data.Year, data.Count, width = 1, alpha=0.6,\n",
    "           color = 'pink' if gender=='F' else 'lightblue')\n",
    "    ax.set_title(name)\n",
    "    return ax\n",
    "\n",
    "fig, ax = plt.subplots(4,4, figsize=(12,12), sharex=True)\n",
    "ax = ax.flatten()\n",
    "years = list(range(1910, 2021,20))\n",
    "plt.xticks(years)\n",
    "for a, (name, gender) in zip(ax, males+females):\n",
    "    plot(a, name, gender)\n",
    "fig.suptitle('Trends for the most popular names',fontsize='x-large');\n",
    "plt.savefig(\"Output/Popular_Names.png\")"
   ]
  },
  {
   "cell_type": "code",
   "execution_count": 38,
   "metadata": {},
   "outputs": [
    {
     "name": "stdout",
     "output_type": "stream",
     "text": [
      "The median of the name occurance is:46.0\n"
     ]
    }
   ],
   "source": [
    "# Median Name occurance\n",
    "median_name = names.Count.sum().median()\n",
    "print(\"The median of the name occurance is:\" +str(median_name))"
   ]
  },
  {
   "cell_type": "code",
   "execution_count": 39,
   "metadata": {},
   "outputs": [
    {
     "data": {
      "text/plain": [
       "Name\n",
       "Albertina    46.0\n",
       "Analuisa     46.0\n",
       "Aspyn        46.0\n",
       "Audel        46.0\n",
       "Bebe         46.0\n",
       "             ... \n",
       "Yahira       46.0\n",
       "Yamilett     46.0\n",
       "Yang         46.0\n",
       "Yanni        46.0\n",
       "Zoltan       46.0\n",
       "Name: Count, Length: 66, dtype: float64"
      ]
     },
     "execution_count": 39,
     "metadata": {},
     "output_type": "execute_result"
    }
   ],
   "source": [
    "# Median Names\n",
    "count_name = names.Count.sum()\n",
    "count_name[count_name==46]"
   ]
  },
  {
   "cell_type": "markdown",
   "metadata": {},
   "source": [
    "### Observation:"
   ]
  },
  {
   "cell_type": "code",
   "execution_count": 40,
   "metadata": {},
   "outputs": [
    {
     "name": "stdout",
     "output_type": "stream",
     "text": [
      "The standard deviation for name is:18438.14728191366\n"
     ]
    }
   ],
   "source": [
    "# Standard Deviation of Names\n",
    "names_std = count_name.std()\n",
    "print(\"The standard deviation for name is:\" +str(names_std))"
   ]
  },
  {
   "cell_type": "code",
   "execution_count": 41,
   "metadata": {},
   "outputs": [
    {
     "data": {
      "text/plain": [
       "count     20652.000000\n",
       "mean       2637.657757\n",
       "std       18438.147282\n",
       "min           5.000000\n",
       "25%          11.000000\n",
       "50%          46.000000\n",
       "75%         287.000000\n",
       "max      726834.000000\n",
       "Name: Count, dtype: float64"
      ]
     },
     "execution_count": 41,
     "metadata": {},
     "output_type": "execute_result"
    }
   ],
   "source": [
    "#Summary on Names\n",
    "count_name.describe()"
   ]
  },
  {
   "cell_type": "code",
   "execution_count": 42,
   "metadata": {},
   "outputs": [
    {
     "data": {
      "text/html": [
       "<div>\n",
       "<style scoped>\n",
       "    .dataframe tbody tr th:only-of-type {\n",
       "        vertical-align: middle;\n",
       "    }\n",
       "\n",
       "    .dataframe tbody tr th {\n",
       "        vertical-align: top;\n",
       "    }\n",
       "\n",
       "    .dataframe thead th {\n",
       "        text-align: right;\n",
       "    }\n",
       "</style>\n",
       "<table border=\"1\" class=\"dataframe\">\n",
       "  <thead>\n",
       "    <tr style=\"text-align: right;\">\n",
       "      <th></th>\n",
       "      <th>Id</th>\n",
       "      <th>Name</th>\n",
       "      <th>Year</th>\n",
       "      <th>Gender</th>\n",
       "      <th>State</th>\n",
       "      <th>Count</th>\n",
       "      <th>date_conv</th>\n",
       "      <th>Name Length</th>\n",
       "    </tr>\n",
       "  </thead>\n",
       "  <tbody>\n",
       "    <tr>\n",
       "      <th>0</th>\n",
       "      <td>1</td>\n",
       "      <td>Mary</td>\n",
       "      <td>1910</td>\n",
       "      <td>F</td>\n",
       "      <td>AK</td>\n",
       "      <td>14.0</td>\n",
       "      <td>1910-01-01</td>\n",
       "      <td>4</td>\n",
       "    </tr>\n",
       "    <tr>\n",
       "      <th>1</th>\n",
       "      <td>2</td>\n",
       "      <td>Annie</td>\n",
       "      <td>1910</td>\n",
       "      <td>F</td>\n",
       "      <td>AK</td>\n",
       "      <td>12.0</td>\n",
       "      <td>1910-01-01</td>\n",
       "      <td>5</td>\n",
       "    </tr>\n",
       "    <tr>\n",
       "      <th>2</th>\n",
       "      <td>3</td>\n",
       "      <td>Anna</td>\n",
       "      <td>1910</td>\n",
       "      <td>F</td>\n",
       "      <td>AK</td>\n",
       "      <td>10.0</td>\n",
       "      <td>1910-01-01</td>\n",
       "      <td>4</td>\n",
       "    </tr>\n",
       "    <tr>\n",
       "      <th>3</th>\n",
       "      <td>4</td>\n",
       "      <td>Margaret</td>\n",
       "      <td>1910</td>\n",
       "      <td>F</td>\n",
       "      <td>AK</td>\n",
       "      <td>8.0</td>\n",
       "      <td>1910-01-01</td>\n",
       "      <td>8</td>\n",
       "    </tr>\n",
       "    <tr>\n",
       "      <th>4</th>\n",
       "      <td>5</td>\n",
       "      <td>Helen</td>\n",
       "      <td>1910</td>\n",
       "      <td>F</td>\n",
       "      <td>AK</td>\n",
       "      <td>7.0</td>\n",
       "      <td>1910-01-01</td>\n",
       "      <td>5</td>\n",
       "    </tr>\n",
       "    <tr>\n",
       "      <th>...</th>\n",
       "      <td>...</td>\n",
       "      <td>...</td>\n",
       "      <td>...</td>\n",
       "      <td>...</td>\n",
       "      <td>...</td>\n",
       "      <td>...</td>\n",
       "      <td>...</td>\n",
       "      <td>...</td>\n",
       "    </tr>\n",
       "    <tr>\n",
       "      <th>1048570</th>\n",
       "      <td>1048571</td>\n",
       "      <td>Kyrsten</td>\n",
       "      <td>2002</td>\n",
       "      <td>F</td>\n",
       "      <td>FL</td>\n",
       "      <td>6.0</td>\n",
       "      <td>2002-01-01</td>\n",
       "      <td>7</td>\n",
       "    </tr>\n",
       "    <tr>\n",
       "      <th>1048571</th>\n",
       "      <td>1048572</td>\n",
       "      <td>Lacy</td>\n",
       "      <td>2002</td>\n",
       "      <td>F</td>\n",
       "      <td>FL</td>\n",
       "      <td>6.0</td>\n",
       "      <td>2002-01-01</td>\n",
       "      <td>4</td>\n",
       "    </tr>\n",
       "    <tr>\n",
       "      <th>1048572</th>\n",
       "      <td>1048573</td>\n",
       "      <td>Laurie</td>\n",
       "      <td>2002</td>\n",
       "      <td>F</td>\n",
       "      <td>FL</td>\n",
       "      <td>6.0</td>\n",
       "      <td>2002-01-01</td>\n",
       "      <td>6</td>\n",
       "    </tr>\n",
       "    <tr>\n",
       "      <th>1048573</th>\n",
       "      <td>1048574</td>\n",
       "      <td>Lee</td>\n",
       "      <td>2002</td>\n",
       "      <td>F</td>\n",
       "      <td>FL</td>\n",
       "      <td>6.0</td>\n",
       "      <td>2002-01-01</td>\n",
       "      <td>3</td>\n",
       "    </tr>\n",
       "    <tr>\n",
       "      <th>1048574</th>\n",
       "      <td>1048575</td>\n",
       "      <td>Leeanna</td>\n",
       "      <td>2002</td>\n",
       "      <td>F</td>\n",
       "      <td>FL</td>\n",
       "      <td>6.0</td>\n",
       "      <td>2002-01-01</td>\n",
       "      <td>7</td>\n",
       "    </tr>\n",
       "  </tbody>\n",
       "</table>\n",
       "<p>1048575 rows × 8 columns</p>\n",
       "</div>"
      ],
      "text/plain": [
       "              Id      Name  Year Gender State  Count  date_conv  Name Length\n",
       "0              1      Mary  1910      F    AK   14.0 1910-01-01            4\n",
       "1              2     Annie  1910      F    AK   12.0 1910-01-01            5\n",
       "2              3      Anna  1910      F    AK   10.0 1910-01-01            4\n",
       "3              4  Margaret  1910      F    AK    8.0 1910-01-01            8\n",
       "4              5     Helen  1910      F    AK    7.0 1910-01-01            5\n",
       "...          ...       ...   ...    ...   ...    ...        ...          ...\n",
       "1048570  1048571   Kyrsten  2002      F    FL    6.0 2002-01-01            7\n",
       "1048571  1048572      Lacy  2002      F    FL    6.0 2002-01-01            4\n",
       "1048572  1048573    Laurie  2002      F    FL    6.0 2002-01-01            6\n",
       "1048573  1048574       Lee  2002      F    FL    6.0 2002-01-01            3\n",
       "1048574  1048575   Leeanna  2002      F    FL    6.0 2002-01-01            7\n",
       "\n",
       "[1048575 rows x 8 columns]"
      ]
     },
     "execution_count": 42,
     "metadata": {},
     "output_type": "execute_result"
    }
   ],
   "source": [
    "baby_name_original[\"Name Length\"]= baby_name_original[\"Name\"].str.len()\n",
    "baby_name_original"
   ]
  },
  {
   "cell_type": "code",
   "execution_count": 43,
   "metadata": {},
   "outputs": [],
   "source": [
    "baby_name_original['Year'] = baby_name_original['Year'].astype(int)"
   ]
  },
  {
   "cell_type": "code",
   "execution_count": 44,
   "metadata": {
    "scrolled": false
   },
   "outputs": [
    {
     "data": {
      "image/png": "[encoded data removed]",
      "text/plain": [
       "<Figure size 432x288 with 1 Axes>"
      ]
     },
     "metadata": {
      "needs_background": "light"
     },
     "output_type": "display_data"
    }
   ],
   "source": [
    "plt.plot(baby_name_original.groupby(['Year']).agg({'Name Length':np.mean}))\n",
    "years = list(range(1910, 2021,10))\n",
    "plt.xticks(years)\n",
    "plt.xlabel(\"Years\",fontsize=12,style='italic')\n",
    "plt.ylabel(\"Name Length\", fontsize=12,style='italic')\n",
    "plt.title(\"Average Length of Baby Names\",fontsize=12,fontweight='bold',style='normal')\n",
    "plt.savefig(\"Output/NameLength.png\")\n",
    "plt.show()"
   ]
  },
  {
   "cell_type": "code",
   "execution_count": 45,
   "metadata": {},
   "outputs": [],
   "source": [
    "both_df = baby_name_original.groupby(['Year','Gender'])['Name Length'].mean()\n",
    "both_df = both_df.unstack()"
   ]
  },
  {
   "cell_type": "code",
   "execution_count": 47,
   "metadata": {
    "scrolled": true
   },
   "outputs": [
    {
     "data": {
      "image/png": "[encoded data removed]",
      "text/plain": [
       "<Figure size 432x288 with 1 Axes>"
      ]
     },
     "metadata": {
      "needs_background": "light"
     },
     "output_type": "display_data"
    }
   ],
   "source": [
    "both_df.plot(kind = 'line')\n",
    "years = list(range(1910, 2021,10))\n",
    "plt.xticks(years)\n",
    "plt.xlabel(\"Years\",fontsize=12,style='italic')\n",
    "plt.ylabel(\"Name Length\",fontsize=12,style='italic')\n",
    "plt.title(\"Male vs Female Average Name Length\",fontsize=12,fontweight='bold',style='normal')\n",
    "plt.savefig(\"Output/Male vs Female Name Length.png\")\n",
    "plt.show()"
   ]
  },
  {
   "cell_type": "code",
   "execution_count": 48,
   "metadata": {
    "scrolled": true
   },
   "outputs": [
    {
     "name": "stdout",
     "output_type": "stream",
     "text": [
      "The most popular Name Lengths are:\n"
     ]
    },
    {
     "data": {
      "text/html": [
       "<div>\n",
       "<style scoped>\n",
       "    .dataframe tbody tr th:only-of-type {\n",
       "        vertical-align: middle;\n",
       "    }\n",
       "\n",
       "    .dataframe tbody tr th {\n",
       "        vertical-align: top;\n",
       "    }\n",
       "\n",
       "    .dataframe thead th {\n",
       "        text-align: right;\n",
       "    }\n",
       "</style>\n",
       "<table border=\"1\" class=\"dataframe\">\n",
       "  <thead>\n",
       "    <tr style=\"text-align: right;\">\n",
       "      <th></th>\n",
       "      <th>Name</th>\n",
       "      <th>Name Length</th>\n",
       "      <th>Count</th>\n",
       "    </tr>\n",
       "  </thead>\n",
       "  <tbody>\n",
       "    <tr>\n",
       "      <th>12020</th>\n",
       "      <td>Leslie</td>\n",
       "      <td>6</td>\n",
       "      <td>1233</td>\n",
       "    </tr>\n",
       "    <tr>\n",
       "      <th>8574</th>\n",
       "      <td>James</td>\n",
       "      <td>5</td>\n",
       "      <td>1217</td>\n",
       "    </tr>\n",
       "    <tr>\n",
       "      <th>11863</th>\n",
       "      <td>Lee</td>\n",
       "      <td>3</td>\n",
       "      <td>1208</td>\n",
       "    </tr>\n",
       "    <tr>\n",
       "      <th>9517</th>\n",
       "      <td>John</td>\n",
       "      <td>4</td>\n",
       "      <td>1189</td>\n",
       "    </tr>\n",
       "    <tr>\n",
       "      <th>13397</th>\n",
       "      <td>Mary</td>\n",
       "      <td>4</td>\n",
       "      <td>1184</td>\n",
       "    </tr>\n",
       "    <tr>\n",
       "      <th>16265</th>\n",
       "      <td>Robert</td>\n",
       "      <td>6</td>\n",
       "      <td>1164</td>\n",
       "    </tr>\n",
       "    <tr>\n",
       "      <th>9316</th>\n",
       "      <td>Jessie</td>\n",
       "      <td>6</td>\n",
       "      <td>1158</td>\n",
       "    </tr>\n",
       "    <tr>\n",
       "      <th>13877</th>\n",
       "      <td>Michael</td>\n",
       "      <td>7</td>\n",
       "      <td>1127</td>\n",
       "    </tr>\n",
       "    <tr>\n",
       "      <th>19847</th>\n",
       "      <td>William</td>\n",
       "      <td>7</td>\n",
       "      <td>1108</td>\n",
       "    </tr>\n",
       "    <tr>\n",
       "      <th>5955</th>\n",
       "      <td>Elizabeth</td>\n",
       "      <td>9</td>\n",
       "      <td>1073</td>\n",
       "    </tr>\n",
       "    <tr>\n",
       "      <th>4771</th>\n",
       "      <td>David</td>\n",
       "      <td>5</td>\n",
       "      <td>1070</td>\n",
       "    </tr>\n",
       "    <tr>\n",
       "      <th>3653</th>\n",
       "      <td>Charles</td>\n",
       "      <td>7</td>\n",
       "      <td>1067</td>\n",
       "    </tr>\n",
       "    <tr>\n",
       "      <th>18779</th>\n",
       "      <td>Terry</td>\n",
       "      <td>5</td>\n",
       "      <td>1050</td>\n",
       "    </tr>\n",
       "    <tr>\n",
       "      <th>7019</th>\n",
       "      <td>George</td>\n",
       "      <td>6</td>\n",
       "      <td>1045</td>\n",
       "    </tr>\n",
       "    <tr>\n",
       "      <th>13091</th>\n",
       "      <td>Margaret</td>\n",
       "      <td>8</td>\n",
       "      <td>1044</td>\n",
       "    </tr>\n",
       "    <tr>\n",
       "      <th>1424</th>\n",
       "      <td>Anna</td>\n",
       "      <td>4</td>\n",
       "      <td>1035</td>\n",
       "    </tr>\n",
       "    <tr>\n",
       "      <th>9686</th>\n",
       "      <td>Joseph</td>\n",
       "      <td>6</td>\n",
       "      <td>1030</td>\n",
       "    </tr>\n",
       "    <tr>\n",
       "      <th>16897</th>\n",
       "      <td>Sarah</td>\n",
       "      <td>5</td>\n",
       "      <td>1029</td>\n",
       "    </tr>\n",
       "    <tr>\n",
       "      <th>10386</th>\n",
       "      <td>Katherine</td>\n",
       "      <td>9</td>\n",
       "      <td>1024</td>\n",
       "    </tr>\n",
       "    <tr>\n",
       "      <th>16165</th>\n",
       "      <td>Richard</td>\n",
       "      <td>7</td>\n",
       "      <td>1023</td>\n",
       "    </tr>\n",
       "  </tbody>\n",
       "</table>\n",
       "</div>"
      ],
      "text/plain": [
       "            Name  Name Length  Count\n",
       "12020     Leslie            6   1233\n",
       "8574       James            5   1217\n",
       "11863        Lee            3   1208\n",
       "9517        John            4   1189\n",
       "13397       Mary            4   1184\n",
       "16265     Robert            6   1164\n",
       "9316      Jessie            6   1158\n",
       "13877    Michael            7   1127\n",
       "19847    William            7   1108\n",
       "5955   Elizabeth            9   1073\n",
       "4771       David            5   1070\n",
       "3653     Charles            7   1067\n",
       "18779      Terry            5   1050\n",
       "7019      George            6   1045\n",
       "13091   Margaret            8   1044\n",
       "1424        Anna            4   1035\n",
       "9686      Joseph            6   1030\n",
       "16897      Sarah            5   1029\n",
       "10386  Katherine            9   1024\n",
       "16165    Richard            7   1023"
      ]
     },
     "execution_count": 48,
     "metadata": {},
     "output_type": "execute_result"
    }
   ],
   "source": [
    "# Most popular Names Length\n",
    "popular_name_length = baby_name_original.groupby(['Name','Name Length']).size().reset_index(name=\"Count\").sort_values(by=\"Count\",ascending=False).drop_duplicates(\"Name\", keep=\"first\")\n",
    "print(\"The most popular Name Lengths are:\")\n",
    "popular_name_length.head(20)\n"
   ]
  },
  {
   "cell_type": "code",
   "execution_count": 49,
   "metadata": {
    "scrolled": false
   },
   "outputs": [
    {
     "data": {
      "text/html": [
       "<div>\n",
       "<style scoped>\n",
       "    .dataframe tbody tr th:only-of-type {\n",
       "        vertical-align: middle;\n",
       "    }\n",
       "\n",
       "    .dataframe tbody tr th {\n",
       "        vertical-align: top;\n",
       "    }\n",
       "\n",
       "    .dataframe thead th {\n",
       "        text-align: right;\n",
       "    }\n",
       "</style>\n",
       "<table border=\"1\" class=\"dataframe\">\n",
       "  <thead>\n",
       "    <tr style=\"text-align: right;\">\n",
       "      <th></th>\n",
       "      <th>Name</th>\n",
       "      <th>Year</th>\n",
       "      <th>Gender</th>\n",
       "      <th>State</th>\n",
       "      <th>Count</th>\n",
       "      <th>date_conv</th>\n",
       "      <th>Name Length</th>\n",
       "      <th>Decade</th>\n",
       "    </tr>\n",
       "    <tr>\n",
       "      <th>Id</th>\n",
       "      <th></th>\n",
       "      <th></th>\n",
       "      <th></th>\n",
       "      <th></th>\n",
       "      <th></th>\n",
       "      <th></th>\n",
       "      <th></th>\n",
       "      <th></th>\n",
       "    </tr>\n",
       "  </thead>\n",
       "  <tbody>\n",
       "    <tr>\n",
       "      <th>1</th>\n",
       "      <td>Mary</td>\n",
       "      <td>1910</td>\n",
       "      <td>F</td>\n",
       "      <td>AK</td>\n",
       "      <td>14.0</td>\n",
       "      <td>1910-01-01</td>\n",
       "      <td>4</td>\n",
       "      <td>1910</td>\n",
       "    </tr>\n",
       "    <tr>\n",
       "      <th>2</th>\n",
       "      <td>Annie</td>\n",
       "      <td>1910</td>\n",
       "      <td>F</td>\n",
       "      <td>AK</td>\n",
       "      <td>12.0</td>\n",
       "      <td>1910-01-01</td>\n",
       "      <td>5</td>\n",
       "      <td>1910</td>\n",
       "    </tr>\n",
       "    <tr>\n",
       "      <th>3</th>\n",
       "      <td>Anna</td>\n",
       "      <td>1910</td>\n",
       "      <td>F</td>\n",
       "      <td>AK</td>\n",
       "      <td>10.0</td>\n",
       "      <td>1910-01-01</td>\n",
       "      <td>4</td>\n",
       "      <td>1910</td>\n",
       "    </tr>\n",
       "    <tr>\n",
       "      <th>4</th>\n",
       "      <td>Margaret</td>\n",
       "      <td>1910</td>\n",
       "      <td>F</td>\n",
       "      <td>AK</td>\n",
       "      <td>8.0</td>\n",
       "      <td>1910-01-01</td>\n",
       "      <td>8</td>\n",
       "      <td>1910</td>\n",
       "    </tr>\n",
       "    <tr>\n",
       "      <th>5</th>\n",
       "      <td>Helen</td>\n",
       "      <td>1910</td>\n",
       "      <td>F</td>\n",
       "      <td>AK</td>\n",
       "      <td>7.0</td>\n",
       "      <td>1910-01-01</td>\n",
       "      <td>5</td>\n",
       "      <td>1910</td>\n",
       "    </tr>\n",
       "    <tr>\n",
       "      <th>...</th>\n",
       "      <td>...</td>\n",
       "      <td>...</td>\n",
       "      <td>...</td>\n",
       "      <td>...</td>\n",
       "      <td>...</td>\n",
       "      <td>...</td>\n",
       "      <td>...</td>\n",
       "      <td>...</td>\n",
       "    </tr>\n",
       "    <tr>\n",
       "      <th>1048571</th>\n",
       "      <td>Kyrsten</td>\n",
       "      <td>2002</td>\n",
       "      <td>F</td>\n",
       "      <td>FL</td>\n",
       "      <td>6.0</td>\n",
       "      <td>2002-01-01</td>\n",
       "      <td>7</td>\n",
       "      <td>2000</td>\n",
       "    </tr>\n",
       "    <tr>\n",
       "      <th>1048572</th>\n",
       "      <td>Lacy</td>\n",
       "      <td>2002</td>\n",
       "      <td>F</td>\n",
       "      <td>FL</td>\n",
       "      <td>6.0</td>\n",
       "      <td>2002-01-01</td>\n",
       "      <td>4</td>\n",
       "      <td>2000</td>\n",
       "    </tr>\n",
       "    <tr>\n",
       "      <th>1048573</th>\n",
       "      <td>Laurie</td>\n",
       "      <td>2002</td>\n",
       "      <td>F</td>\n",
       "      <td>FL</td>\n",
       "      <td>6.0</td>\n",
       "      <td>2002-01-01</td>\n",
       "      <td>6</td>\n",
       "      <td>2000</td>\n",
       "    </tr>\n",
       "    <tr>\n",
       "      <th>1048574</th>\n",
       "      <td>Lee</td>\n",
       "      <td>2002</td>\n",
       "      <td>F</td>\n",
       "      <td>FL</td>\n",
       "      <td>6.0</td>\n",
       "      <td>2002-01-01</td>\n",
       "      <td>3</td>\n",
       "      <td>2000</td>\n",
       "    </tr>\n",
       "    <tr>\n",
       "      <th>1048575</th>\n",
       "      <td>Leeanna</td>\n",
       "      <td>2002</td>\n",
       "      <td>F</td>\n",
       "      <td>FL</td>\n",
       "      <td>6.0</td>\n",
       "      <td>2002-01-01</td>\n",
       "      <td>7</td>\n",
       "      <td>2000</td>\n",
       "    </tr>\n",
       "  </tbody>\n",
       "</table>\n",
       "<p>1048575 rows × 8 columns</p>\n",
       "</div>"
      ],
      "text/plain": [
       "             Name  Year Gender State  Count  date_conv  Name Length  Decade\n",
       "Id                                                                         \n",
       "1            Mary  1910      F    AK   14.0 1910-01-01            4    1910\n",
       "2           Annie  1910      F    AK   12.0 1910-01-01            5    1910\n",
       "3            Anna  1910      F    AK   10.0 1910-01-01            4    1910\n",
       "4        Margaret  1910      F    AK    8.0 1910-01-01            8    1910\n",
       "5           Helen  1910      F    AK    7.0 1910-01-01            5    1910\n",
       "...           ...   ...    ...   ...    ...        ...          ...     ...\n",
       "1048571   Kyrsten  2002      F    FL    6.0 2002-01-01            7    2000\n",
       "1048572      Lacy  2002      F    FL    6.0 2002-01-01            4    2000\n",
       "1048573    Laurie  2002      F    FL    6.0 2002-01-01            6    2000\n",
       "1048574       Lee  2002      F    FL    6.0 2002-01-01            3    2000\n",
       "1048575   Leeanna  2002      F    FL    6.0 2002-01-01            7    2000\n",
       "\n",
       "[1048575 rows x 8 columns]"
      ]
     },
     "execution_count": 49,
     "metadata": {},
     "output_type": "execute_result"
    }
   ],
   "source": [
    "baby_name_new = baby_name_original.copy()\n",
    "baby_name_new.set_index('Id', inplace=True)\n",
    "#baby_name_new[\"Year\"] = baby_name_new[\"Year\"].astype(int)\n",
    "baby_name_new['Decade'] = ((baby_name_new['Year']//10)*10)\n",
    "#baby_name_new = baby_name_new.reset_index(drop=True)\n",
    "baby_name_new"
   ]
  },
  {
   "cell_type": "code",
   "execution_count": 50,
   "metadata": {},
   "outputs": [],
   "source": [
    "# Group the dataset by decade\n",
    "decade = baby_name_new.groupby(\"Decade\")"
   ]
  },
  {
   "cell_type": "code",
   "execution_count": 51,
   "metadata": {},
   "outputs": [
    {
     "name": "stdout",
     "output_type": "stream",
     "text": [
      "The Average per decade is:\n"
     ]
    },
    {
     "data": {
      "text/plain": [
       "Decade\n",
       "1910    5.732300\n",
       "1920    5.810657\n",
       "1930    5.775487\n",
       "1940    5.798417\n",
       "1950    5.789889\n",
       "1960    5.807671\n",
       "1970    5.930810\n",
       "1980    6.017974\n",
       "1990    6.065289\n",
       "2000    5.987623\n",
       "2010    5.950541\n",
       "Name: Name Length, dtype: float64"
      ]
     },
     "execution_count": 51,
     "metadata": {},
     "output_type": "execute_result"
    }
   ],
   "source": [
    "# Average per Decade \n",
    "average_decade = decade['Name Length'].mean()\n",
    "print(\"The Average per decade is:\")\n",
    "average_decade"
   ]
  },
  {
   "cell_type": "code",
   "execution_count": 52,
   "metadata": {},
   "outputs": [
    {
     "name": "stdout",
     "output_type": "stream",
     "text": [
      "The Standard Deviation of decade on Name length is:\n"
     ]
    },
    {
     "data": {
      "text/plain": [
       "Decade\n",
       "1910    1.459526\n",
       "1920    1.467503\n",
       "1930    1.462345\n",
       "1940    1.472677\n",
       "1950    1.462622\n",
       "1960    1.452873\n",
       "1970    1.435261\n",
       "1980    1.458566\n",
       "1990    1.439460\n",
       "2000    1.402543\n",
       "2010    1.395767\n",
       "Name: Name Length, dtype: float64"
      ]
     },
     "execution_count": 52,
     "metadata": {},
     "output_type": "execute_result"
    }
   ],
   "source": [
    "# Standard deviation of decade\n",
    "std_decade= decade['Name Length'].std()\n",
    "print(\"The Standard Deviation of decade on Name length is:\")\n",
    "std_decade"
   ]
  },
  {
   "cell_type": "code",
   "execution_count": 53,
   "metadata": {},
   "outputs": [
    {
     "name": "stdout",
     "output_type": "stream",
     "text": [
      " The average name length is:5.917804639629974\n"
     ]
    }
   ],
   "source": [
    "# The average Name Length for 100 years\n",
    "gender_name_length = baby_name_original[\"Name Length\"]\n",
    "average_name = np.average(gender_name_length)\n",
    "print(\" The average name length is:\" + str(average_name))"
   ]
  },
  {
   "cell_type": "code",
   "execution_count": 55,
   "metadata": {
    "scrolled": true
   },
   "outputs": [
    {
     "name": "stdout",
     "output_type": "stream",
     "text": [
      "Maximum average value is 6.087786\n",
      "Year with maximum length is 1990\n"
     ]
    },
    {
     "data": {
      "text/html": [
       "<div>\n",
       "<style scoped>\n",
       "    .dataframe tbody tr th:only-of-type {\n",
       "        vertical-align: middle;\n",
       "    }\n",
       "\n",
       "    .dataframe tbody tr th {\n",
       "        vertical-align: top;\n",
       "    }\n",
       "\n",
       "    .dataframe thead th {\n",
       "        text-align: right;\n",
       "    }\n",
       "</style>\n",
       "<table border=\"1\" class=\"dataframe\">\n",
       "  <thead>\n",
       "    <tr style=\"text-align: right;\">\n",
       "      <th></th>\n",
       "      <th>Name</th>\n",
       "      <th>Year</th>\n",
       "      <th>Gender</th>\n",
       "      <th>State</th>\n",
       "      <th>Count</th>\n",
       "      <th>date_conv</th>\n",
       "      <th>Name Length</th>\n",
       "      <th>Decade</th>\n",
       "    </tr>\n",
       "    <tr>\n",
       "      <th>Id</th>\n",
       "      <th></th>\n",
       "      <th></th>\n",
       "      <th></th>\n",
       "      <th></th>\n",
       "      <th></th>\n",
       "      <th></th>\n",
       "      <th></th>\n",
       "      <th></th>\n",
       "    </tr>\n",
       "  </thead>\n",
       "  <tbody>\n",
       "    <tr>\n",
       "      <th>8496</th>\n",
       "      <td>Jessica</td>\n",
       "      <td>1990</td>\n",
       "      <td>F</td>\n",
       "      <td>AK</td>\n",
       "      <td>112.0</td>\n",
       "      <td>1990-01-01</td>\n",
       "      <td>7</td>\n",
       "      <td>1990</td>\n",
       "    </tr>\n",
       "    <tr>\n",
       "      <th>8497</th>\n",
       "      <td>Ashley</td>\n",
       "      <td>1990</td>\n",
       "      <td>F</td>\n",
       "      <td>AK</td>\n",
       "      <td>96.0</td>\n",
       "      <td>1990-01-01</td>\n",
       "      <td>6</td>\n",
       "      <td>1990</td>\n",
       "    </tr>\n",
       "    <tr>\n",
       "      <th>8498</th>\n",
       "      <td>Amanda</td>\n",
       "      <td>1990</td>\n",
       "      <td>F</td>\n",
       "      <td>AK</td>\n",
       "      <td>92.0</td>\n",
       "      <td>1990-01-01</td>\n",
       "      <td>6</td>\n",
       "      <td>1990</td>\n",
       "    </tr>\n",
       "    <tr>\n",
       "      <th>8499</th>\n",
       "      <td>Brittany</td>\n",
       "      <td>1990</td>\n",
       "      <td>F</td>\n",
       "      <td>AK</td>\n",
       "      <td>75.0</td>\n",
       "      <td>1990-01-01</td>\n",
       "      <td>8</td>\n",
       "      <td>1990</td>\n",
       "    </tr>\n",
       "    <tr>\n",
       "      <th>8500</th>\n",
       "      <td>Samantha</td>\n",
       "      <td>1990</td>\n",
       "      <td>F</td>\n",
       "      <td>AK</td>\n",
       "      <td>72.0</td>\n",
       "      <td>1990-01-01</td>\n",
       "      <td>8</td>\n",
       "      <td>1990</td>\n",
       "    </tr>\n",
       "    <tr>\n",
       "      <th>...</th>\n",
       "      <td>...</td>\n",
       "      <td>...</td>\n",
       "      <td>...</td>\n",
       "      <td>...</td>\n",
       "      <td>...</td>\n",
       "      <td>...</td>\n",
       "      <td>...</td>\n",
       "      <td>...</td>\n",
       "    </tr>\n",
       "    <tr>\n",
       "      <th>1027303</th>\n",
       "      <td>Wilda</td>\n",
       "      <td>1990</td>\n",
       "      <td>F</td>\n",
       "      <td>FL</td>\n",
       "      <td>5.0</td>\n",
       "      <td>1990-01-01</td>\n",
       "      <td>5</td>\n",
       "      <td>1990</td>\n",
       "    </tr>\n",
       "    <tr>\n",
       "      <th>1027304</th>\n",
       "      <td>Wilma</td>\n",
       "      <td>1990</td>\n",
       "      <td>F</td>\n",
       "      <td>FL</td>\n",
       "      <td>5.0</td>\n",
       "      <td>1990-01-01</td>\n",
       "      <td>5</td>\n",
       "      <td>1990</td>\n",
       "    </tr>\n",
       "    <tr>\n",
       "      <th>1027305</th>\n",
       "      <td>Yajaira</td>\n",
       "      <td>1990</td>\n",
       "      <td>F</td>\n",
       "      <td>FL</td>\n",
       "      <td>5.0</td>\n",
       "      <td>1990-01-01</td>\n",
       "      <td>7</td>\n",
       "      <td>1990</td>\n",
       "    </tr>\n",
       "    <tr>\n",
       "      <th>1027306</th>\n",
       "      <td>Yazmin</td>\n",
       "      <td>1990</td>\n",
       "      <td>F</td>\n",
       "      <td>FL</td>\n",
       "      <td>5.0</td>\n",
       "      <td>1990-01-01</td>\n",
       "      <td>6</td>\n",
       "      <td>1990</td>\n",
       "    </tr>\n",
       "    <tr>\n",
       "      <th>1027307</th>\n",
       "      <td>Zena</td>\n",
       "      <td>1990</td>\n",
       "      <td>F</td>\n",
       "      <td>FL</td>\n",
       "      <td>5.0</td>\n",
       "      <td>1990-01-01</td>\n",
       "      <td>4</td>\n",
       "      <td>1990</td>\n",
       "    </tr>\n",
       "  </tbody>\n",
       "</table>\n",
       "<p>15253 rows × 8 columns</p>\n",
       "</div>"
      ],
      "text/plain": [
       "             Name  Year Gender State  Count  date_conv  Name Length  Decade\n",
       "Id                                                                         \n",
       "8496      Jessica  1990      F    AK  112.0 1990-01-01            7    1990\n",
       "8497       Ashley  1990      F    AK   96.0 1990-01-01            6    1990\n",
       "8498       Amanda  1990      F    AK   92.0 1990-01-01            6    1990\n",
       "8499     Brittany  1990      F    AK   75.0 1990-01-01            8    1990\n",
       "8500     Samantha  1990      F    AK   72.0 1990-01-01            8    1990\n",
       "...           ...   ...    ...   ...    ...        ...          ...     ...\n",
       "1027303     Wilda  1990      F    FL    5.0 1990-01-01            5    1990\n",
       "1027304     Wilma  1990      F    FL    5.0 1990-01-01            5    1990\n",
       "1027305   Yajaira  1990      F    FL    5.0 1990-01-01            7    1990\n",
       "1027306    Yazmin  1990      F    FL    5.0 1990-01-01            6    1990\n",
       "1027307      Zena  1990      F    FL    5.0 1990-01-01            4    1990\n",
       "\n",
       "[15253 rows x 8 columns]"
      ]
     },
     "execution_count": 55,
     "metadata": {},
     "output_type": "execute_result"
    }
   ],
   "source": [
    "mean_series = baby_name_new.groupby(['Year'])['Name Length'].mean()\n",
    "max_index = mean_series.argmax()\n",
    "print(\"Maximum average value is %f\"%mean_series.iloc[max_index])\n",
    "\n",
    "# Year with maximum average length\n",
    "print(\"Year with maximum length is %d\"%mean_series.index[max_index])\n",
    "\n",
    "#Top ten values in 1990\n",
    "baby_name_new[baby_name_new['Year'] == 1990]"
   ]
  },
  {
   "cell_type": "code",
   "execution_count": 56,
   "metadata": {
    "scrolled": true
   },
   "outputs": [
    {
     "name": "stdout",
     "output_type": "stream",
     "text": [
      "The Longest Name Length for year 1990 :\n"
     ]
    },
    {
     "data": {
      "text/html": [
       "<div>\n",
       "<style scoped>\n",
       "    .dataframe tbody tr th:only-of-type {\n",
       "        vertical-align: middle;\n",
       "    }\n",
       "\n",
       "    .dataframe tbody tr th {\n",
       "        vertical-align: top;\n",
       "    }\n",
       "\n",
       "    .dataframe thead th {\n",
       "        text-align: right;\n",
       "    }\n",
       "</style>\n",
       "<table border=\"1\" class=\"dataframe\">\n",
       "  <thead>\n",
       "    <tr style=\"text-align: right;\">\n",
       "      <th></th>\n",
       "      <th>Name</th>\n",
       "      <th>Name Length</th>\n",
       "    </tr>\n",
       "    <tr>\n",
       "      <th>Id</th>\n",
       "      <th></th>\n",
       "      <th></th>\n",
       "    </tr>\n",
       "  </thead>\n",
       "  <tbody>\n",
       "    <tr>\n",
       "      <th>644768</th>\n",
       "      <td>Antoniodejesus</td>\n",
       "      <td>14</td>\n",
       "    </tr>\n",
       "    <tr>\n",
       "      <th>644729</th>\n",
       "      <td>Michaelanthony</td>\n",
       "      <td>14</td>\n",
       "    </tr>\n",
       "    <tr>\n",
       "      <th>470124</th>\n",
       "      <td>Mariaguadalupe</td>\n",
       "      <td>14</td>\n",
       "    </tr>\n",
       "    <tr>\n",
       "      <th>470123</th>\n",
       "      <td>Mariadelcarmen</td>\n",
       "      <td>14</td>\n",
       "    </tr>\n",
       "    <tr>\n",
       "      <th>472149</th>\n",
       "      <td>Mariacristina</td>\n",
       "      <td>13</td>\n",
       "    </tr>\n",
       "    <tr>\n",
       "      <th>644235</th>\n",
       "      <td>Michaelangelo</td>\n",
       "      <td>13</td>\n",
       "    </tr>\n",
       "    <tr>\n",
       "      <th>472164</th>\n",
       "      <td>Maryelizabeth</td>\n",
       "      <td>13</td>\n",
       "    </tr>\n",
       "    <tr>\n",
       "      <th>645058</th>\n",
       "      <td>Victoralfonso</td>\n",
       "      <td>13</td>\n",
       "    </tr>\n",
       "    <tr>\n",
       "      <th>471317</th>\n",
       "      <td>Kristinamarie</td>\n",
       "      <td>13</td>\n",
       "    </tr>\n",
       "    <tr>\n",
       "      <th>471579</th>\n",
       "      <td>Jessicamarie</td>\n",
       "      <td>12</td>\n",
       "    </tr>\n",
       "  </tbody>\n",
       "</table>\n",
       "</div>"
      ],
      "text/plain": [
       "                  Name  Name Length\n",
       "Id                                 \n",
       "644768  Antoniodejesus           14\n",
       "644729  Michaelanthony           14\n",
       "470124  Mariaguadalupe           14\n",
       "470123  Mariadelcarmen           14\n",
       "472149   Mariacristina           13\n",
       "644235   Michaelangelo           13\n",
       "472164   Maryelizabeth           13\n",
       "645058   Victoralfonso           13\n",
       "471317   Kristinamarie           13\n",
       "471579    Jessicamarie           12"
      ]
     },
     "execution_count": 56,
     "metadata": {},
     "output_type": "execute_result"
    }
   ],
   "source": [
    "print(\"The Longest Name Length for year 1990 :\")\n",
    "baby_name_new[baby_name_new['Year'] == 1990].sort_values('Name Length',ascending = False).head(10)[['Name','Name Length']]\n"
   ]
  },
  {
   "cell_type": "code",
   "execution_count": null,
   "metadata": {},
   "outputs": [],
   "source": []
  }
 ],
 "metadata": {
  "kernelspec": {
   "display_name": "Python 3",
   "language": "python",
   "name": "python3"
  },
  "language_info": {
   "codemirror_mode": {
    "name": "ipython",
    "version": 3
   },
   "file_extension": ".py",
   "mimetype": "text/x-python",
   "name": "python",
   "nbconvert_exporter": "python",
   "pygments_lexer": "ipython3",
   "version": "3.7.6"
  }
 },
 "nbformat": 4,
 "nbformat_minor": 4
}
