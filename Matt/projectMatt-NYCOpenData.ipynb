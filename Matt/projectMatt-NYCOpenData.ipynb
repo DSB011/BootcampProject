{
 "cells": [
  {
   "cell_type": "markdown",
   "metadata": {},
   "source": [
    "Project Markup"
   ]
  },
  {
   "cell_type": "code",
   "execution_count": 1,
   "metadata": {},
   "outputs": [],
   "source": [
    "# Dependencies\n",
    "#from config import (census_key, gkey)\n",
    "import gmaps\n",
    "import numpy as np\n",
    "import pandas as pd\n",
    "import requests\n",
    "import time\n",
    "#from us import states\n",
    "from scipy.stats import linregress\n",
    "from matplotlib import pyplot as plt"
   ]
  },
  {
   "cell_type": "code",
   "execution_count": 2,
   "metadata": {},
   "outputs": [
    {
     "data": {
      "text/html": [
       "<div>\n",
       "<style scoped>\n",
       "    .dataframe tbody tr th:only-of-type {\n",
       "        vertical-align: middle;\n",
       "    }\n",
       "\n",
       "    .dataframe tbody tr th {\n",
       "        vertical-align: top;\n",
       "    }\n",
       "\n",
       "    .dataframe thead th {\n",
       "        text-align: right;\n",
       "    }\n",
       "</style>\n",
       "<table border=\"1\" class=\"dataframe\">\n",
       "  <thead>\n",
       "    <tr style=\"text-align: right;\">\n",
       "      <th></th>\n",
       "      <th>Year of Birth</th>\n",
       "      <th>Gender</th>\n",
       "      <th>Ethnicity</th>\n",
       "      <th>Child's First Name</th>\n",
       "      <th>Count</th>\n",
       "      <th>Rank</th>\n",
       "    </tr>\n",
       "  </thead>\n",
       "  <tbody>\n",
       "    <tr>\n",
       "      <th>0</th>\n",
       "      <td>2011</td>\n",
       "      <td>FEMALE</td>\n",
       "      <td>HISPANIC</td>\n",
       "      <td>GERALDINE</td>\n",
       "      <td>13</td>\n",
       "      <td>75</td>\n",
       "    </tr>\n",
       "    <tr>\n",
       "      <th>1</th>\n",
       "      <td>2011</td>\n",
       "      <td>FEMALE</td>\n",
       "      <td>HISPANIC</td>\n",
       "      <td>GIA</td>\n",
       "      <td>21</td>\n",
       "      <td>67</td>\n",
       "    </tr>\n",
       "    <tr>\n",
       "      <th>2</th>\n",
       "      <td>2011</td>\n",
       "      <td>FEMALE</td>\n",
       "      <td>HISPANIC</td>\n",
       "      <td>GIANNA</td>\n",
       "      <td>49</td>\n",
       "      <td>42</td>\n",
       "    </tr>\n",
       "    <tr>\n",
       "      <th>3</th>\n",
       "      <td>2011</td>\n",
       "      <td>FEMALE</td>\n",
       "      <td>HISPANIC</td>\n",
       "      <td>GISELLE</td>\n",
       "      <td>38</td>\n",
       "      <td>51</td>\n",
       "    </tr>\n",
       "    <tr>\n",
       "      <th>4</th>\n",
       "      <td>2011</td>\n",
       "      <td>FEMALE</td>\n",
       "      <td>HISPANIC</td>\n",
       "      <td>GRACE</td>\n",
       "      <td>36</td>\n",
       "      <td>53</td>\n",
       "    </tr>\n",
       "    <tr>\n",
       "      <th>...</th>\n",
       "      <td>...</td>\n",
       "      <td>...</td>\n",
       "      <td>...</td>\n",
       "      <td>...</td>\n",
       "      <td>...</td>\n",
       "      <td>...</td>\n",
       "    </tr>\n",
       "    <tr>\n",
       "      <th>27486</th>\n",
       "      <td>2016</td>\n",
       "      <td>FEMALE</td>\n",
       "      <td>HISPANIC</td>\n",
       "      <td>Alayna</td>\n",
       "      <td>10</td>\n",
       "      <td>74</td>\n",
       "    </tr>\n",
       "    <tr>\n",
       "      <th>27487</th>\n",
       "      <td>2015</td>\n",
       "      <td>FEMALE</td>\n",
       "      <td>HISPANIC</td>\n",
       "      <td>Yaritza</td>\n",
       "      <td>12</td>\n",
       "      <td>79</td>\n",
       "    </tr>\n",
       "    <tr>\n",
       "      <th>27488</th>\n",
       "      <td>2015</td>\n",
       "      <td>MALE</td>\n",
       "      <td>WHITE NON HISPANIC</td>\n",
       "      <td>Mendel</td>\n",
       "      <td>42</td>\n",
       "      <td>64</td>\n",
       "    </tr>\n",
       "    <tr>\n",
       "      <th>27489</th>\n",
       "      <td>2016</td>\n",
       "      <td>MALE</td>\n",
       "      <td>ASIAN AND PACIFIC ISLANDER</td>\n",
       "      <td>Isaac</td>\n",
       "      <td>21</td>\n",
       "      <td>48</td>\n",
       "    </tr>\n",
       "    <tr>\n",
       "      <th>27490</th>\n",
       "      <td>2015</td>\n",
       "      <td>FEMALE</td>\n",
       "      <td>WHITE NON HISPANIC</td>\n",
       "      <td>Alessia</td>\n",
       "      <td>12</td>\n",
       "      <td>81</td>\n",
       "    </tr>\n",
       "  </tbody>\n",
       "</table>\n",
       "<p>27491 rows × 6 columns</p>\n",
       "</div>"
      ],
      "text/plain": [
       "      Year of Birth  Gender                   Ethnicity Child's First Name  \\\n",
       "0              2011  FEMALE                    HISPANIC          GERALDINE   \n",
       "1              2011  FEMALE                    HISPANIC                GIA   \n",
       "2              2011  FEMALE                    HISPANIC             GIANNA   \n",
       "3              2011  FEMALE                    HISPANIC            GISELLE   \n",
       "4              2011  FEMALE                    HISPANIC              GRACE   \n",
       "...             ...     ...                         ...                ...   \n",
       "27486          2016  FEMALE                    HISPANIC             Alayna   \n",
       "27487          2015  FEMALE                    HISPANIC            Yaritza   \n",
       "27488          2015    MALE          WHITE NON HISPANIC             Mendel   \n",
       "27489          2016    MALE  ASIAN AND PACIFIC ISLANDER              Isaac   \n",
       "27490          2015  FEMALE          WHITE NON HISPANIC            Alessia   \n",
       "\n",
       "      Count Rank  \n",
       "0        13   75  \n",
       "1        21   67  \n",
       "2        49   42  \n",
       "3        38   51  \n",
       "4        36   53  \n",
       "...     ...  ...  \n",
       "27486    10   74  \n",
       "27487    12   79  \n",
       "27488    42   64  \n",
       "27489    21   48  \n",
       "27490    12   81  \n",
       "\n",
       "[27491 rows x 6 columns]"
      ]
     },
     "execution_count": 2,
     "metadata": {},
     "output_type": "execute_result"
    }
   ],
   "source": [
    "#import city baby name data\n",
    "baby_name_original = pd.read_csv(\n",
    "    \"../Data/Popular_Baby_Names.csv\", dtype=\"object\", encoding=\"utf-8\")\n",
<<<<<<< HEAD:Matt/projectMatt.ipynb
    "baby_name_original"
=======
    "#display result\n",
    "baby_name_original.head()"
>>>>>>> c3e114130b5ed4a18478689a1404ac14f1175bd0:Matt/projectMatt-NYCOpenData.ipynb
   ]
  },
  {
   "cell_type": "code",
   "execution_count": 9,
   "metadata": {
    "scrolled": true
   },
   "outputs": [
    {
     "data": {
      "text/plain": [
       "array(['HISPANIC', 'WHITE', 'ASIAN', 'BLACK'], dtype=object)"
      ]
     },
     "execution_count": 9,
     "metadata": {},
     "output_type": "execute_result"
    }
   ],
   "source": [
    "#find unique Ethnicity values\n",
    "#baby_name_original['Ethnicity'].unique()\n",
    "#standardize in ASIAN, BLACK, WHITE, HISPANIC groups\n",
    "baby_name_original['Ethnicity'] = baby_name_original['Ethnicity'].replace({'WHITE NON HISPANIC': 'WHITE'})\n",
    "baby_name_original['Ethnicity'] = baby_name_original['Ethnicity'].replace({'ASIAN AND PACIFIC ISLANDER': 'ASIAN'})\n",
    "baby_name_original['Ethnicity'] = baby_name_original['Ethnicity'].replace({'BLACK NON HISPANIC': 'BLACK'})\n",
    "baby_name_original['Ethnicity'] = baby_name_original['Ethnicity'].replace({'ASIAN AND PACI': 'ASIAN'})\n",
    "baby_name_original['Ethnicity'] = baby_name_original['Ethnicity'].replace({'BLACK NON HISP': 'BLACK'})\n",
    "baby_name_original['Ethnicity'] = baby_name_original['Ethnicity'].replace({'WHITE NON HISP': 'WHITE'})\n",
    "baby_name_original['Ethnicity'].unique()"
   ]
  },
  {
   "cell_type": "code",
   "execution_count": 14,
   "metadata": {},
   "outputs": [
    {
     "data": {
      "text/plain": [
       "array(['75', '67', '42', '51', '53', '62', '8', '74', '71', '78', '73',\n",
       "       '72', '77', '60', '1', '70', '61', '65', '58', '41', '76', '68',\n",
       "       '48', '55', '40', '66', '64', '34', '44', '57', '63', '33', '31',\n",
       "       '20', '69', '35', '13', '52', '59', '39', '9', '27', '10', '56',\n",
       "       '12', '2', '25', '18', '14', '38', '28', '6', '3', '19', '45',\n",
       "       '47', '11', '79', '17', '43', '80', '37', '81', '46', '5', '22',\n",
       "       '50', '21', '30', '24', '54', '15', '36', '23', '7', '16', '49',\n",
       "       '29', '4', '32', '26', '92', '90', '82', '91', '88', '89', '94',\n",
       "       '83', '93', '84', '87', '85', '86', '96', '97', '95', '99', '98',\n",
       "       '100', '101', '102'], dtype=object)"
      ]
     },
     "execution_count": 14,
     "metadata": {},
     "output_type": "execute_result"
    }
   ],
   "source": [
    "#verify other columns are standardized\n",
    "baby_name_original['Year of Birth'].unique()\n",
    "baby_name_original['Gender'].unique()\n",
    "baby_name_original[\"Child's First Name\"].unique()\n",
    "baby_name_original[\"Count\"].unique()\n",
    "baby_name_original[\"Rank\"].unique()"
   ]
  },
  {
   "cell_type": "code",
   "execution_count": 5,
   "metadata": {},
   "outputs": [
    {
     "name": "stdout",
     "output_type": "stream",
     "text": [
      "Year of Birth         27491\n",
      "Gender                27491\n",
      "Ethnicity             27491\n",
      "Child's First Name    27491\n",
      "Count                 27491\n",
      "Rank                  27491\n",
      "dtype: int64\n"
     ]
    },
    {
     "data": {
      "text/html": [
       "<div>\n",
       "<style scoped>\n",
       "    .dataframe tbody tr th:only-of-type {\n",
       "        vertical-align: middle;\n",
       "    }\n",
       "\n",
       "    .dataframe tbody tr th {\n",
       "        vertical-align: top;\n",
       "    }\n",
       "\n",
       "    .dataframe thead th {\n",
       "        text-align: right;\n",
       "    }\n",
       "</style>\n",
       "<table border=\"1\" class=\"dataframe\">\n",
       "  <thead>\n",
       "    <tr style=\"text-align: right;\">\n",
       "      <th></th>\n",
       "      <th>Year of Birth</th>\n",
       "      <th>Gender</th>\n",
       "      <th>Ethnicity</th>\n",
       "      <th>Child's First Name</th>\n",
       "      <th>Count</th>\n",
       "      <th>Rank</th>\n",
       "    </tr>\n",
       "  </thead>\n",
       "  <tbody>\n",
       "    <tr>\n",
       "      <th>count</th>\n",
       "      <td>27491</td>\n",
       "      <td>27491</td>\n",
       "      <td>27491</td>\n",
       "      <td>27491</td>\n",
       "      <td>27491</td>\n",
       "      <td>27491</td>\n",
       "    </tr>\n",
       "    <tr>\n",
       "      <th>unique</th>\n",
       "      <td>6</td>\n",
       "      <td>2</td>\n",
       "      <td>7</td>\n",
       "      <td>3021</td>\n",
       "      <td>280</td>\n",
       "      <td>102</td>\n",
       "    </tr>\n",
       "    <tr>\n",
       "      <th>top</th>\n",
       "      <td>2014</td>\n",
       "      <td>FEMALE</td>\n",
       "      <td>HISPANIC</td>\n",
       "      <td>Avery</td>\n",
       "      <td>10</td>\n",
       "      <td>77</td>\n",
       "    </tr>\n",
       "    <tr>\n",
       "      <th>freq</th>\n",
       "      <td>5865</td>\n",
       "      <td>14060</td>\n",
       "      <td>8114</td>\n",
       "      <td>52</td>\n",
       "      <td>2262</td>\n",
       "      <td>558</td>\n",
       "    </tr>\n",
       "  </tbody>\n",
       "</table>\n",
       "</div>"
      ],
      "text/plain": [
       "       Year of Birth  Gender Ethnicity Child's First Name  Count   Rank\n",
       "count          27491   27491     27491              27491  27491  27491\n",
       "unique             6       2         7               3021    280    102\n",
       "top             2014  FEMALE  HISPANIC              Avery     10     77\n",
       "freq            5865   14060      8114                 52   2262    558"
      ]
     },
     "execution_count": 5,
     "metadata": {},
     "output_type": "execute_result"
    }
   ],
   "source": [
    "counts = baby_name_original.count()\n",
    "countsinfo = baby_name_original.describe()\n",
    "print(counts)\n",
    "countsinfo"
   ]
  },
  {
   "cell_type": "code",
   "execution_count": 5,
   "metadata": {},
   "outputs": [],
   "source": [
    "ethnicities = baby_name_original['Ethnicity'].unique()"
   ]
  },
  {
   "cell_type": "code",
   "execution_count": 6,
   "metadata": {},
   "outputs": [
    {
     "data": {
      "text/plain": [
       "array(['HISPANIC', 'WHITE NON HISPANIC', 'ASIAN AND PACIFIC ISLANDER',\n",
       "       'BLACK NON HISPANIC', 'ASIAN AND PACI', 'BLACK NON HISP',\n",
       "       'WHITE NON HISP'], dtype=object)"
      ]
     },
     "execution_count": 6,
     "metadata": {},
     "output_type": "execute_result"
    }
   ],
   "source": [
    "ethnicities"
   ]
  },
  {
   "cell_type": "code",
   "execution_count": null,
   "metadata": {},
   "outputs": [],
   "source": []
  }
 ],
 "metadata": {
  "kernelspec": {
   "display_name": "Python 3",
   "language": "python",
   "name": "python3"
  },
  "language_info": {
   "codemirror_mode": {
    "name": "ipython",
    "version": 3
   },
   "file_extension": ".py",
   "mimetype": "text/x-python",
   "name": "python",
   "nbconvert_exporter": "python",
   "pygments_lexer": "ipython3",
   "version": "3.7.6"
  }
 },
 "nbformat": 4,
 "nbformat_minor": 4
}
